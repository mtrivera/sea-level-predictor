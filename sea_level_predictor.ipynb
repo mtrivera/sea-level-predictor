{
 "cells": [
  {
   "cell_type": "code",
   "execution_count": 11,
   "id": "d666e8a5-e972-402e-a302-80856f0129c3",
   "metadata": {},
   "outputs": [],
   "source": [
    "import pandas as pd\n",
    "import matplotlib.pyplot as plt\n",
    "from scipy.stats import linregress"
   ]
  },
  {
   "cell_type": "code",
   "execution_count": 12,
   "id": "527cc959-c9b1-46a5-a017-848aa0c92a40",
   "metadata": {},
   "outputs": [],
   "source": [
    "def draw_plot():\n",
    "    # Read data from file\n",
    "    df = pd.read_csv('epa-sea-level.csv', index_col='Year', float_precision='legacy')\n",
    "    \n",
    "    sea_level = df['CSIRO Adjusted Sea Level']\n",
    "    year = df.index\n",
    "    \n",
    "    # Create scatter plot\n",
    "    plt.scatter(year, sea_level)\n",
    "\n",
    "    # Create first line of best fit\n",
    "\n",
    "    \n",
    "    # Create second line of best fit\n",
    "\n",
    "\n",
    "    # Add labels and title\n",
    "    plt.xlabel('Year')\n",
    "    plt.ylabel('Sea Level (inches)')\n",
    "    plt.title(\"Rise in Sea Level\")\n",
    "    \n",
    "    # Save plot and return data for testing (DO NOT MODIFY)\n",
    "    plt.savefig('sea_level_plot.png')\n",
    "    return plt.gca()"
   ]
  }
 ],
 "metadata": {
  "kernelspec": {
   "display_name": "Python 3 (ipykernel)",
   "language": "python",
   "name": "python3"
  },
  "language_info": {
   "codemirror_mode": {
    "name": "ipython",
    "version": 3
   },
   "file_extension": ".py",
   "mimetype": "text/x-python",
   "name": "python",
   "nbconvert_exporter": "python",
   "pygments_lexer": "ipython3",
   "version": "3.9.4"
  }
 },
 "nbformat": 4,
 "nbformat_minor": 5
}
