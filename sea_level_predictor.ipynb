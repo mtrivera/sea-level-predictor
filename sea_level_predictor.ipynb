{
 "cells": [
  {
   "cell_type": "code",
   "execution_count": 4,
   "id": "d666e8a5-e972-402e-a302-80856f0129c3",
   "metadata": {},
   "outputs": [],
   "source": [
    "import pandas as pd\n",
    "import matplotlib.pyplot as plt\n",
    "from scipy.stats import linregress"
   ]
  },
  {
   "cell_type": "code",
   "execution_count": 15,
   "id": "527cc959-c9b1-46a5-a017-848aa0c92a40",
   "metadata": {},
   "outputs": [],
   "source": [
    "def draw_plot():\n",
    "    # Read data from file\n",
    "    df = pd.read_csv('epa-sea-level.csv', index_col='Year', float_precision='legacy')\n",
    "    \n",
    "    sea_level = df['CSIRO Adjusted Sea Level']\n",
    "    year = df.index\n",
    "    \n",
    "    # Create scatter plot\n",
    "    plt.scatter(year, sea_level)\n",
    "\n",
    "    # Create first line of best fit\n",
    "    slope, intercept, rvalue, pvalue, stderr = linregress(year, sea_level)\n",
    "    year_prediction = list(range(1880, 2051))\n",
    "    first_line = [intercept + slope * year for year in year_prediction]\n",
    "    plt.plot(year_prediction, first_line, linewidth=2, color=\"red\")\n",
    "    \n",
    "    # Create second line of best fit\n",
    "\n",
    "    \n",
    "    # Add labels and title\n",
    "    plt.xlabel('Year')\n",
    "    plt.ylabel('Sea Level (inches)')\n",
    "    plt.title(\"Rise in Sea Level\")\n",
    "    \n",
    "    # Save plot and return data for testing (DO NOT MODIFY)\n",
    "    plt.savefig('sea_level_plot.png')\n",
    "    return plt.gca()"
   ]
  },
  {
   "cell_type": "code",
   "execution_count": 16,
   "id": "16f441f2-b136-48a0-bf65-7dd4a0cd3029",
   "metadata": {},
   "outputs": [
    {
     "name": "stdout",
     "output_type": "stream",
     "text": [
      "      CSIRO Adjusted Sea Level  Lower Error Bound  Upper Error Bound  \\\n",
      "Year                                                                   \n",
      "2000                  7.062992           6.791339           7.334646   \n",
      "2001                  7.287402           7.019685           7.555118   \n",
      "2002                  7.381890           7.110236           7.653543   \n",
      "2003                  7.759843           7.484252           8.035433   \n",
      "2004                  7.740157           7.464567           8.015748   \n",
      "2005                  7.744094           7.472441           8.015748   \n",
      "2006                  7.917323           7.645669           8.188976   \n",
      "2007                  7.996063           7.712598           8.279528   \n",
      "2008                  8.350394           8.078740           8.622047   \n",
      "2009                  8.586614           8.311024           8.862205   \n",
      "2010                  8.901575           8.618110           9.185039   \n",
      "2011                  8.964567           8.661417           9.267717   \n",
      "2012                  9.326772           8.992126           9.661417   \n",
      "2013                  8.980315           8.622047           9.338583   \n",
      "\n",
      "      NOAA Adjusted Sea Level  \n",
      "Year                           \n",
      "2000                 6.920582  \n",
      "2001                 7.087460  \n",
      "2002                 7.319698  \n",
      "2003                 7.488353  \n",
      "2004                 7.507933  \n",
      "2005                 7.644563  \n",
      "2006                 7.697420  \n",
      "2007                 7.702147  \n",
      "2008                 7.907365  \n",
      "2009                 8.046354  \n",
      "2010                 8.122973  \n",
      "2011                 8.053065  \n",
      "2012                 8.457058  \n",
      "2013                 8.546648  \n"
     ]
    },
    {
     "data": {
      "text/plain": [
       "<AxesSubplot:title={'center':'Rise in Sea Level'}, xlabel='Year', ylabel='Sea Level (inches)'>"
      ]
     },
     "execution_count": 16,
     "metadata": {},
     "output_type": "execute_result"
    },
    {
     "data": {
      "image/png": "[encoded data removed]",
      "text/plain": [
       "<Figure size 432x288 with 1 Axes>"
      ]
     },
     "metadata": {
      "needs_background": "light"
     },
     "output_type": "display_data"
    }
   ],
   "source": [
    "draw_plot()"
   ]
  }
 ],
 "metadata": {
  "kernelspec": {
   "display_name": "Python 3 (ipykernel)",
   "language": "python",
   "name": "python3"
  },
  "language_info": {
   "codemirror_mode": {
    "name": "ipython",
    "version": 3
   },
   "file_extension": ".py",
   "mimetype": "text/x-python",
   "name": "python",
   "nbconvert_exporter": "python",
   "pygments_lexer": "ipython3",
   "version": "3.9.4"
  }
 },
 "nbformat": 4,
 "nbformat_minor": 5
}
